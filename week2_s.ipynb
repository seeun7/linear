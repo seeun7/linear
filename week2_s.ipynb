{
  "nbformat": 4,
  "nbformat_minor": 0,
  "metadata": {
    "colab": {
      "provenance": [],
      "gpuType": "T4",
      "toc_visible": true,
      "mount_file_id": "1QVaXgOIj6gMUzYiQAPf22arLC7iTKRfF",
      "authorship_tag": "ABX9TyORW69jPPe+31WuDTiXYAok",
      "include_colab_link": true
    },
    "kernelspec": {
      "name": "python3",
      "display_name": "Python 3"
    },
    "language_info": {
      "name": "python"
    },
    "accelerator": "GPU"
  },
  "cells": [
    {
      "cell_type": "markdown",
      "metadata": {
        "id": "view-in-github",
        "colab_type": "text"
      },
      "source": [
        "<a href=\"https://colab.research.google.com/github/seeun7/linear/blob/main/week2_s.ipynb\" target=\"_parent\"><img src=\"https://colab.research.google.com/assets/colab-badge.svg\" alt=\"Open In Colab\"/></a>"
      ]
    },
    {
      "cell_type": "markdown",
      "source": [
        "1.프린트\n"
      ],
      "metadata": {
        "id": "BSl0Kn3aZdrO"
      }
    },
    {
      "cell_type": "code",
      "execution_count": 2,
      "metadata": {
        "id": "E5beVj4aQmy2",
        "colab": {
          "base_uri": "https://localhost:8080/"
        },
        "outputId": "679b1dd1-c6e7-4661-d9ee-9237ce1612a2"
      },
      "outputs": [
        {
          "output_type": "stream",
          "name": "stdout",
          "text": [
            "Hello, world\n",
            "정수: 3, 03, 003, 0003, 00003\n",
            "실수: 256, 256.1, 256.12\n",
            "문자열: [Hello, World]\n"
          ]
        }
      ],
      "source": [
        "print(\"Hello, world\")\n",
        "x=3\n",
        "print(\"정수: %01d, %02d, %03d, %04d, %05d\"%(x,x,x,x,x))\n",
        "\n",
        "x=256.123\n",
        "print(\"실수: %.0f, %.1f, %.2f\"%(x,x,x))\n",
        "\n",
        "x=\"Hello, World\"\n",
        "print(\"문자열: [%s]\"%(x))"
      ]
    },
    {
      "cell_type": "markdown",
      "source": [
        "2.반복문, 조건문\n"
      ],
      "metadata": {
        "id": "_z_ONLonZj8a"
      }
    },
    {
      "cell_type": "code",
      "source": [
        "contents=[\"Regression\",\"Classification\",\"SYM\",\"Clustering\",\"Dimension reduction\",\"NN\",\"CNN\",\"AE\",\"GAN\",\"RNN\"]\n",
        "for con in contents:\n",
        "  if con in [\"Regression\",\"Classification\",\"SYM\",\"Clustering\",\"Dimension reduction\"]:\n",
        "    print(\"%s은(는) 기계학습 내용입니다.\" %con)\n",
        "  elif con in [\"CNN\"]:\n",
        "    print(\"%s은(는) convolutional neural network 입니다.\" %con)\n",
        "  else:\n",
        "    print(\"%s은(는) 심층학습 내용입니다.\" %con)\n",
        ""
      ],
      "metadata": {
        "colab": {
          "base_uri": "https://localhost:8080/"
        },
        "id": "sjRVy2-PYeSt",
        "outputId": "0b17b475-d133-4171-a66e-5179345f4358"
      },
      "execution_count": 3,
      "outputs": [
        {
          "output_type": "stream",
          "name": "stdout",
          "text": [
            "Regression은(는) 기계학습 내용입니다.\n",
            "Classification은(는) 기계학습 내용입니다.\n",
            "SYM은(는) 기계학습 내용입니다.\n",
            "Clustering은(는) 기계학습 내용입니다.\n",
            "Dimension reduction은(는) 기계학습 내용입니다.\n",
            "NN은(는) 심층학습 내용입니다.\n",
            "CNN은(는) convolutional neural network 입니다.\n",
            "AE은(는) 심층학습 내용입니다.\n",
            "GAN은(는) 심층학습 내용입니다.\n",
            "RNN은(는) 심층학습 내용입니다.\n"
          ]
        }
      ]
    },
    {
      "cell_type": "markdown",
      "source": [
        "3.반복문과 인덱스"
      ],
      "metadata": {
        "id": "NdwHcVitZyMC"
      }
    },
    {
      "cell_type": "code",
      "source": [
        "for (i,con) in enumerate(contents):\n",
        "  print(\"[%d/%d]:%s\"%(i,len(contents),con))"
      ],
      "metadata": {
        "colab": {
          "base_uri": "https://localhost:8080/"
        },
        "id": "r8VU7FDoZ1qm",
        "outputId": "da1f6892-143e-40e7-d4a6-aa2ba2e13027"
      },
      "execution_count": 4,
      "outputs": [
        {
          "output_type": "stream",
          "name": "stdout",
          "text": [
            "[0/10]:Regression\n",
            "[1/10]:Classification\n",
            "[2/10]:SYM\n",
            "[3/10]:Clustering\n",
            "[4/10]:Dimension reduction\n",
            "[5/10]:NN\n",
            "[6/10]:CNN\n",
            "[7/10]:AE\n",
            "[8/10]:GAN\n",
            "[9/10]:RNN\n"
          ]
        }
      ]
    },
    {
      "cell_type": "markdown",
      "source": [
        "4.함수"
      ],
      "metadata": {
        "id": "YC2vpOieaEVa"
      }
    },
    {
      "cell_type": "code",
      "source": [
        "def sum(a,b):\n",
        "  return a+b\n",
        "x=10.0\n",
        "y=20.0\n",
        "print(\"%.1f+ %.1f = %.1f\" %(x,y,sum(x,y)))"
      ],
      "metadata": {
        "colab": {
          "base_uri": "https://localhost:8080/"
        },
        "id": "8JUX36ehaHrV",
        "outputId": "2bdf3fd5-a7d4-407b-93b3-67a369efd4cf"
      },
      "execution_count": 6,
      "outputs": [
        {
          "output_type": "stream",
          "name": "stdout",
          "text": [
            "10.0+ 20.0 = 30.0\n"
          ]
        }
      ]
    },
    {
      "cell_type": "markdown",
      "source": [
        "5.리스트\n"
      ],
      "metadata": {
        "id": "BL_YbWssaZeQ"
      }
    },
    {
      "cell_type": "code",
      "source": [
        "a=[]\n",
        "b=[1,2,3]\n",
        "c=[\"Hello\",\",\",\"world\"]\n",
        "d=[1,2,3,\"x\",\"y\",\"z\"]\n",
        "x=[]\n",
        "print(x)\n",
        "x.append('a')\n",
        "print(x)\n",
        "x.append(123)\n",
        "print(x)\n",
        "x.append([\"a\",\"b\"])\n",
        "print(x)"
      ],
      "metadata": {
        "colab": {
          "base_uri": "https://localhost:8080/"
        },
        "id": "AWSUOf2Dabi9",
        "outputId": "3d20b4eb-1d6e-487a-b2ec-a6577ff0bcb1"
      },
      "execution_count": 7,
      "outputs": [
        {
          "output_type": "stream",
          "name": "stdout",
          "text": [
            "[]\n",
            "['a']\n",
            "['a', 123]\n",
            "['a', 123, ['a', 'b']]\n"
          ]
        }
      ]
    },
    {
      "cell_type": "markdown",
      "source": [
        "6.딕셔너리"
      ],
      "metadata": {
        "id": "oKyUNh68ayzG"
      }
    },
    {
      "cell_type": "code",
      "source": [
        "dic=dict()\n",
        "dic[\"name\"]=\"seeun\"\n",
        "dic[\"town\"]=\"Ansan\"\n",
        "dic[\"jod\"]=\"student\"\n",
        "print(dic)"
      ],
      "metadata": {
        "colab": {
          "base_uri": "https://localhost:8080/"
        },
        "id": "MlnA1_2va2VV",
        "outputId": "70185bd1-cd23-4854-d6c3-8d8277d88fe6"
      },
      "execution_count": 8,
      "outputs": [
        {
          "output_type": "stream",
          "name": "stdout",
          "text": [
            "{'name': 'seeun', 'town': 'Ansan', 'jod': 'student'}\n"
          ]
        }
      ]
    },
    {
      "cell_type": "markdown",
      "source": [
        "7.클래스"
      ],
      "metadata": {
        "id": "P5eMnp-abIW2"
      }
    },
    {
      "cell_type": "code",
      "source": [
        "class Student:\n",
        "  def __init__(self, name):\n",
        "    self.name=name\n",
        "  def study(self, hard=False):\n",
        "    if hard:\n",
        "      print(\"%s 학생은 열심히 공부합니다.\" %self.name)\n",
        "    else:\n",
        "      print(\"%s 학생은 공부합니다.\" %self.name)\n",
        "s=Student('seeun')\n",
        "s.study()\n",
        "s.study(hard=True)"
      ],
      "metadata": {
        "colab": {
          "base_uri": "https://localhost:8080/"
        },
        "id": "DnL_-K2obLx1",
        "outputId": "5e13f594-a7d6-4306-d124-e0aecff934fc"
      },
      "execution_count": 9,
      "outputs": [
        {
          "output_type": "stream",
          "name": "stdout",
          "text": [
            "seeun 학생은 공부합니다.\n",
            "seeun 학생은 열심히 공부합니다.\n"
          ]
        }
      ]
    },
    {
      "cell_type": "markdown",
      "source": [],
      "metadata": {
        "id": "ZcDp_RNAbtMX"
      }
    }
  ]
}